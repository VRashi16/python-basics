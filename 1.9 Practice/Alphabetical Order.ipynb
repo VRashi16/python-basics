{
 "cells": [
  {
   "cell_type": "code",
   "execution_count": 1,
   "metadata": {},
   "outputs": [
    {
     "name": "stdout",
     "output_type": "stream",
     "text": [
      "The sorted words are:\n",
      "Example\n",
      "Hello\n",
      "Is\n",
      "With\n",
      "an\n",
      "cased\n",
      "letters\n",
      "this\n"
     ]
    }
   ],
   "source": [
    "# Program to sort alphabetically the words form a string provided by the user\n",
    "\n",
    "# change this value for a different result\n",
    "my_str = \"Hello this Is an Example With cased letters\"\n",
    "\n",
    "# uncomment to take input from the user\n",
    "#my_str = input(\"Enter a string: \")\n",
    "\n",
    "# breakdown the string into a list of words\n",
    "words = my_str.split()\n",
    "\n",
    "# sort the list\n",
    "words.sort()\n",
    "\n",
    "# display the sorted words\n",
    "\n",
    "print(\"The sorted words are:\")\n",
    "for word in words:\n",
    "   print(word)"
   ]
  },
  {
   "cell_type": "code",
   "execution_count": null,
   "metadata": {},
   "outputs": [],
   "source": []
  }
 ],
 "metadata": {
  "kernelspec": {
   "display_name": "Python 3",
   "language": "python",
   "name": "python3"
  },
  "language_info": {
   "codemirror_mode": {
    "name": "ipython",
    "version": 3
   },
   "file_extension": ".py",
   "mimetype": "text/x-python",
   "name": "python",
   "nbconvert_exporter": "python",
   "pygments_lexer": "ipython3",
   "version": "3.6.5"
  }
 },
 "nbformat": 4,
 "nbformat_minor": 2
}
