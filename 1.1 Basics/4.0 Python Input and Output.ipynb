{
 "cells": [
  {
   "cell_type": "markdown",
   "metadata": {},
   "source": [
    "# Python Input and Output"
   ]
  },
  {
   "cell_type": "markdown",
   "metadata": {},
   "source": [
    "# Python Output"
   ]
  },
  {
   "cell_type": "markdown",
   "metadata": {},
   "source": [
    "We use the print() function to output data to the standard output device. "
   ]
  },
  {
   "cell_type": "code",
   "execution_count": 1,
   "metadata": {},
   "outputs": [
    {
     "name": "stdout",
     "output_type": "stream",
     "text": [
      "Hello Python!\n"
     ]
    }
   ],
   "source": [
    "print(\"Hello Python!\")"
   ]
  },
  {
   "cell_type": "code",
   "execution_count": 2,
   "metadata": {},
   "outputs": [
    {
     "name": "stdout",
     "output_type": "stream",
     "text": [
      "The value of a is 45.5\n",
      "The value of a is 45.5\n"
     ]
    }
   ],
   "source": [
    "e = 45.5\n",
    "print(\"The value of a is\", e) #python 3\n",
    "print (\"The value of a is \" + str(e))"
   ]
  },
  {
   "cell_type": "markdown",
   "metadata": {},
   "source": [
    "# Output Formatting"
   ]
  },
  {
   "cell_type": "code",
   "execution_count": 3,
   "metadata": {},
   "outputs": [
    {
     "name": "stdout",
     "output_type": "stream",
     "text": [
      "The value of a is 98.4 and b is Rock\n"
     ]
    }
   ],
   "source": [
    "a = 98.4; b = 'Rock' #multiple statements in single line.\n",
    "\n",
    "print(\"The value of a is {} and b is {}\".format(a, b))    #default"
   ]
  },
  {
   "cell_type": "code",
   "execution_count": 4,
   "metadata": {},
   "outputs": [
    {
     "name": "stdout",
     "output_type": "stream",
     "text": [
      "The value of j is 2 and h is jack\n"
     ]
    }
   ],
   "source": [
    "h = 'jack'; j = 2  #multiple statements in single line\n",
    "\n",
    "print(\"The value of j is {1} and h is {0}\".format(h, j)) #specify position of arguments"
   ]
  },
  {
   "cell_type": "code",
   "execution_count": 5,
   "metadata": {},
   "outputs": [
    {
     "name": "stdout",
     "output_type": "stream",
     "text": [
      "Hello Raju, How are you?\n"
     ]
    }
   ],
   "source": [
    "#we can use keyword arguments to format the string\n",
    "print(\"Hello {name}, {greet}\".format(name=\"Raju\", greet=\"How are you?\"))"
   ]
  },
  {
   "cell_type": "code",
   "execution_count": 6,
   "metadata": {},
   "outputs": [
    {
     "name": "stdout",
     "output_type": "stream",
     "text": [
      "The story of Sinbad and the sailor is very famous\n"
     ]
    }
   ],
   "source": [
    "#we can combine positional arguments with keyword arguments\n",
    "print('The story of {0} and {other} is very famous' .format('Sinbad', other='the sailor'))"
   ]
  },
  {
   "cell_type": "markdown",
   "metadata": {},
   "source": [
    "# Python Input"
   ]
  },
  {
   "cell_type": "markdown",
   "metadata": {},
   "source": [
    "If we want to take the input from the user, in Python, we have the input() function to allow this. \n",
    "For specific applications we have to declare specific  data type of input() . \n",
    "By default, input() function returns string as a data type."
   ]
  },
  {
   "cell_type": "code",
   "execution_count": 7,
   "metadata": {},
   "outputs": [
    {
     "name": "stdout",
     "output_type": "stream",
     "text": [
      "Enter a number: 123\n",
      "123\n"
     ]
    }
   ],
   "source": [
    "d = input(\"Enter a number: \")\n",
    "print (d)"
   ]
  },
  {
   "cell_type": "code",
   "execution_count": 8,
   "metadata": {},
   "outputs": [
    {
     "name": "stdout",
     "output_type": "stream",
     "text": [
      "Enter your name: durgesh\n",
      "durgesh\n"
     ]
    }
   ],
   "source": [
    "fg = input(\"Enter your name: \")\n",
    "print(fg)"
   ]
  },
  {
   "cell_type": "code",
   "execution_count": 9,
   "metadata": {},
   "outputs": [
    {
     "name": "stdout",
     "output_type": "stream",
     "text": [
      "enter rno123\n",
      "['1', '2', '3']\n"
     ]
    }
   ],
   "source": [
    "dfg = list(input(\"enter rno\"))\n",
    "print (dfg)"
   ]
  },
  {
   "cell_type": "code",
   "execution_count": 10,
   "metadata": {},
   "outputs": [
    {
     "name": "stdout",
     "output_type": "stream",
     "text": [
      "<class 'list'>\n"
     ]
    },
    {
     "data": {
      "text/plain": [
       "['1', '2', '3']"
      ]
     },
     "execution_count": 10,
     "metadata": {},
     "output_type": "execute_result"
    }
   ],
   "source": [
    "sd = dfg\n",
    "print(type(sd))\n",
    "sd"
   ]
  },
  {
   "cell_type": "code",
   "execution_count": 11,
   "metadata": {},
   "outputs": [
    {
     "name": "stdout",
     "output_type": "stream",
     "text": [
      "enter rno8796\n",
      "('8', '7', '9', '6')\n",
      "<class 'tuple'>\n"
     ]
    }
   ],
   "source": [
    "cvb = tuple(input(\"enter rno\"))\n",
    "print (cvb)\n",
    "print(type(cvb))"
   ]
  },
  {
   "cell_type": "code",
   "execution_count": 12,
   "metadata": {},
   "outputs": [
    {
     "name": "stdout",
     "output_type": "stream",
     "text": [
      "Enter your marks: 450\n",
      "450\n"
     ]
    }
   ],
   "source": [
    "hgf = int(input(\"Enter your marks: \"))\n",
    "print(hgf)"
   ]
  }
 ],
 "metadata": {
  "kernelspec": {
   "display_name": "Python 3 (ipykernel)",
   "language": "python",
   "name": "python3"
  },
  "language_info": {
   "codemirror_mode": {
    "name": "ipython",
    "version": 3
   },
   "file_extension": ".py",
   "mimetype": "text/x-python",
   "name": "python",
   "nbconvert_exporter": "python",
   "pygments_lexer": "ipython3",
   "version": "3.11.3"
  }
 },
 "nbformat": 4,
 "nbformat_minor": 2
}
